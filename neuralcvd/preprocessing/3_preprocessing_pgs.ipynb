{
 "cells": [
  {
   "cell_type": "markdown",
   "metadata": {},
   "source": [
    "# Preprocessing - Polygenic Risk Scores"
   ]
  },
  {
   "cell_type": "code",
   "execution_count": null,
   "metadata": {},
   "outputs": [],
   "source": [
    "%load_ext autoreload\n",
    "%autoreload 2\n",
    "\n",
    "import os\n",
    "from tqdm.auto import tqdm\n",
    "\n",
    "import numpy as np\n",
    "import pandas as pd\n",
    "import lifelines\n",
    "\n",
    "from joblib import Parallel, delayed\n",
    "from tqdm.notebook import tqdm\n",
    "import neptune\n",
    "import warnings\n",
    "warnings.filterwarnings(\"ignore\")\n",
    "import shutil\n",
    "import pathlib\n",
    "\n",
    "dataset_name = \"210212_cvd_gp\"\n",
    "path = \"/data/analysis/ag-reils/steinfej/code/umbrella/pre/ukbb\"\n",
    "data_path = \"/data/analysis/ag-reils/ag-reils-shared/cardioRS/data\"\n",
    "dataset_path = f\"{data_path}/2_datasets_pre/{dataset_name}\""
   ]
  },
  {
   "cell_type": "code",
   "execution_count": null,
   "metadata": {},
   "outputs": [],
   "source": [
    "data = pd.read_feather(f\"{dataset_path}/baseline_covariates.feather\")\n",
    "data.head()"
   ]
  },
  {
   "cell_type": "markdown",
   "metadata": {},
   "source": [
    "## Score Weights"
   ]
  },
  {
   "cell_type": "markdown",
   "metadata": {},
   "source": [
    "PGS Catalogue searched for [\"Atrial Fibrillation\", \"Coronary Artery Disease\", \"Coronary Heart Disease\", \"Stroke\"] "
   ]
  },
  {
   "cell_type": "code",
   "execution_count": null,
   "metadata": {},
   "outputs": [],
   "source": [
    "pgs_planned = sorted([p.absolute() for p in list(pathlib.Path(f\"{data_path}/1_genetics/pgs_weights/raw\").rglob('*.txt'))])\n",
    "pgs_planned_list = [p.name[:-4] for p in pgs_planned]\n",
    "pgs_planned_dict = dict(zip(pgs_planned_list, pgs_planned))"
   ]
  },
  {
   "cell_type": "markdown",
   "metadata": {},
   "source": [
    "## Get Scores"
   ]
  },
  {
   "cell_type": "code",
   "execution_count": null,
   "metadata": {},
   "outputs": [],
   "source": [
    "pgs_finished = sorted([p.parent.absolute() for p in list(pathlib.Path(f\"{data_path}/1_genetics\").rglob('*distribution_plot.png'))])\n",
    "pgs_list = [p.name for p in pgs_finished]\n",
    "pgs_dict = dict(zip(pgs_list, pgs_finished))"
   ]
  },
  {
   "cell_type": "code",
   "execution_count": null,
   "metadata": {},
   "outputs": [],
   "source": [
    "data_pgs = data[[\"eid\"]]\n",
    "for pgs, pgs_path in pgs_dict.items():\n",
    "    temp = pd.read_csv(str(pgs_path)+\"/PRSice.all_score\", delim_whitespace=True)\n",
    "    temp = temp[temp.columns[-2:]]\n",
    "    temp.columns = [\"eid\", pgs]\n",
    "    data_pgs = data_pgs.merge(temp, on=\"eid\", how=\"left\")"
   ]
  },
  {
   "cell_type": "code",
   "execution_count": null,
   "metadata": {},
   "outputs": [],
   "source": [
    "for pgs in pgs_dict.keys():\n",
    "    data_pgs[pgs].plot.kde()"
   ]
  },
  {
   "cell_type": "markdown",
   "metadata": {},
   "source": [
    "## Plotting"
   ]
  },
  {
   "cell_type": "code",
   "execution_count": null,
   "metadata": {},
   "outputs": [],
   "source": [
    "from sklearn.preprocessing import StandardScaler, LabelEncoder\n",
    "from sklearn.preprocessing import OneHotEncoder\n",
    "from sklearn_pandas import DataFrameMapper\n",
    "        \n",
    "leave_eid = [(col, None) for col in [\"eid\"]]\n",
    "standardize = [([col], StandardScaler()) for col in list(pgs_dict.keys())]\n",
    "\n",
    "mapper = DataFrameMapper(leave_eid + standardize, df_out=True)\n",
    "data_pgs_tf = mapper.fit_transform(data_pgs)"
   ]
  },
  {
   "cell_type": "code",
   "execution_count": null,
   "metadata": {},
   "outputs": [],
   "source": [
    "for pgs in pgs_dict.keys():\n",
    "    data_pgs_tf[pgs].plot.kde()"
   ]
  },
  {
   "cell_type": "code",
   "execution_count": null,
   "metadata": {},
   "outputs": [],
   "source": [
    "from scipy.stats import pearsonr\n",
    "import matplotlib.pyplot as plt \n",
    "\n",
    "def corrfunc(x,y, ax=None, **kws):\n",
    "    \"\"\"Plot the correlation coefficient in the top left hand corner of a plot.\"\"\"\n",
    "    r, _ = pearsonr(x, y)\n",
    "    ax = ax or plt.gca()\n",
    "    # Unicode for lowercase rho (ρ)\n",
    "    rho = '\\u03C1'\n",
    "    ax.annotate(f'{rho} = {r:.2f}', xy=(.1, .9), xycoords=ax.transAxes)"
   ]
  },
  {
   "cell_type": "code",
   "execution_count": null,
   "metadata": {},
   "outputs": [],
   "source": [
    "import seaborn as sns\n",
    "import matplotlib.pyplot as plt\n",
    " \n",
    "# Basic correlogram\n",
    "g = sns.pairplot(data_pgs_tf[list(pgs_dict.keys())])\n",
    "g.map_lower(corrfunc)\n",
    "plt.show()"
   ]
  },
  {
   "cell_type": "markdown",
   "metadata": {},
   "source": [
    "## Write to disk"
   ]
  },
  {
   "cell_type": "code",
   "execution_count": null,
   "metadata": {},
   "outputs": [],
   "source": [
    "dtypes = {\"int32\":\"int\", \"int64\":\"int\", \"float64\":\"float\", \"category\":\"category\", \"object\":\"category\", \"bool\":\"bool\"}\n",
    "desc_dict = {\"id\": [*range(1, len(data_pgs.columns.to_list())+1)] , \n",
    "             \"covariate\": data_pgs.columns.to_list(), \n",
    "             \"dtype\":[dtypes[str(col)] for col in data_pgs.dtypes.to_list()], \n",
    "             \"isTarget\":[False for col in data_pgs.columns.to_list()],\n",
    "            \"based_on\":[\"PGS\" if col!=\"eid\" else \"eid\" for col in data_pgs.columns.to_list()],\n",
    "            \"aggr_fn\": [np.nan for col in data_pgs.columns.to_list()]}\n",
    "data_pgs_description = pd.DataFrame.from_dict(desc_dict)\n",
    "data_pgs_description"
   ]
  },
  {
   "cell_type": "code",
   "execution_count": null,
   "metadata": {},
   "outputs": [],
   "source": [
    "data_pgs.to_feather(f\"{dataset_path}/baseline_pgs.feather\")\n",
    "data_pgs_description.to_feather(f\"{dataset_path}/baseline_pgs_description.feather\")"
   ]
  }
 ],
 "metadata": {
  "kernelspec": {
   "display_name": "Python [conda env:miniconda3-pl1.x]",
   "language": "python",
   "name": "conda-env-miniconda3-pl1.x-py"
  },
  "language_info": {
   "codemirror_mode": {
    "name": "ipython",
    "version": 3
   },
   "file_extension": ".py",
   "mimetype": "text/x-python",
   "name": "python",
   "nbconvert_exporter": "python",
   "pygments_lexer": "ipython3",
   "version": "3.7.8"
  },
  "toc-autonumbering": true,
  "toc-showcode": true,
  "toc-showmarkdowntxt": true
 },
 "nbformat": 4,
 "nbformat_minor": 4
}
