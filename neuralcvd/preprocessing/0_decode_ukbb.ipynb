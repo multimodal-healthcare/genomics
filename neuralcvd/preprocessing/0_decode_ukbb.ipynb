{
 "cells": [
  {
   "cell_type": "code",
   "execution_count": 1,
   "metadata": {},
   "outputs": [],
   "source": [
    "library(ukbtools)"
   ]
  },
  {
   "cell_type": "code",
   "execution_count": 2,
   "metadata": {},
   "outputs": [],
   "source": [
    "my_ukb_data <- ukb_df(\"decoded\", path = \"/data/project/uk_bb/cvd/data/ukb_downloads/updated_showcase_43098/ukb_data\")\n",
    "df_field <- ukb_df_field(\"decoded\", path = \"/data/project/uk_bb/cvd/data/ukb_downloads/updated_showcase_43098/ukb_data\")"
   ]
  },
  {
   "cell_type": "code",
   "execution_count": 3,
   "metadata": {},
   "outputs": [],
   "source": [
    "arrow::write_feather(my_ukb_data, \"/data/analysis/ag-reils/ag-reils-shared/cardioRS/data/1_decoded/ukb_data.feather\")\n",
    "arrow::write_feather(df_field, \"/data/analysis/ag-reils/ag-reils-shared/cardioRS/data/1_decoded/ukb_data_field.feather\")"
   ]
  },
  {
   "cell_type": "code",
   "execution_count": null,
   "metadata": {},
   "outputs": [],
   "source": []
  }
 ],
 "metadata": {
  "kernelspec": {
   "display_name": "R [conda env:python]",
   "language": "R",
   "name": "conda-env-python-r"
  },
  "language_info": {
   "codemirror_mode": "r",
   "file_extension": ".r",
   "mimetype": "text/x-r-source",
   "name": "R",
   "pygments_lexer": "r",
   "version": "4.0.3"
  }
 },
 "nbformat": 4,
 "nbformat_minor": 4
}
