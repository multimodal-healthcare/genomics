{
 "cells": [
  {
   "cell_type": "markdown",
   "metadata": {},
   "source": [
    "# 4. Scores"
   ]
  },
  {
   "cell_type": "code",
   "execution_count": null,
   "metadata": {},
   "outputs": [],
   "source": [
    "try(library(tidyverse), silent=TRUE)\n",
    "library(lubridate)\n",
    "library(data.table)\n",
    "library(glue)\n",
    "library(jsonlite)\n",
    "dataset_name = \"210616_centres_dask\"\n",
    "data_path = \"/data/analysis/ag-reils/ag-reils-shared/cardioRS/data\"\n",
    "dataset_path = glue(\"{data_path}/3_datasets_post/{dataset_name}\")\n",
    "dataset_path_pre = glue(\"{data_path}/2_datasets_pre/{dataset_name}\")"
   ]
  },
  {
   "cell_type": "code",
   "execution_count": null,
   "metadata": {},
   "outputs": [],
   "source": [
    "project_label = \"21_PGS_Revision\"\n",
    "project_path = glue(\"/data/analysis/ag-reils/ag-reils-shared/cardioRS/results/projects/{project_label}\")\n",
    "figures_path = glue(\"{project_path}/figures\")\n",
    "data_results_path = glue(\"{project_path}/data\")"
   ]
  },
  {
   "cell_type": "code",
   "execution_count": null,
   "metadata": {
    "ExecuteTime": {
     "end_time": "2020-11-04T09:37:19.066784Z",
     "start_time": "2020-11-04T09:37:16.560Z"
    }
   },
   "outputs": [],
   "source": [
    "description = arrow::read_feather(glue(\"{dataset_path}/description.feather\"))"
   ]
  },
  {
   "cell_type": "code",
   "execution_count": null,
   "metadata": {},
   "outputs": [],
   "source": [
    "files = c()\n",
    "for (i in 0:21){\n",
    "    files = c(files, glue(\"{dataset_path}/partition_{i}/test/data_imputed.feather\"))\n",
    "}"
   ]
  },
  {
   "cell_type": "code",
   "execution_count": null,
   "metadata": {},
   "outputs": [],
   "source": [
    "data = map(files, arrow::read_feather) %>% bind_rows()"
   ]
  },
  {
   "cell_type": "markdown",
   "metadata": {},
   "source": [
    "## Missing values"
   ]
  },
  {
   "cell_type": "code",
   "execution_count": null,
   "metadata": {
    "ExecuteTime": {
     "start_time": "2020-11-04T09:36:46.941Z"
    }
   },
   "outputs": [],
   "source": [
    "na_count <-data.frame(sapply(data, function(y) sum(length(which(is.na(y))))))\n",
    "na_count %>% filter(sapply(data, function(y) sum(length(which(is.na(y)))))>0)"
   ]
  },
  {
   "cell_type": "code",
   "execution_count": null,
   "metadata": {},
   "outputs": [],
   "source": [
    "map_smoking = jsonlite::fromJSON(str_replace_all(str_replace_all((description %>% filter(covariate == \"smoking_status\"))$mapping, \"'\", '\"'), \", nan: -2\", \"\"))\n",
    "map_smoking = setNames(names(map_smoking), map_smoking)\n",
    "map_gender = jsonlite::fromJSON(str_replace_all(str_replace_all((description %>% filter(covariate == \"sex\"))$mapping, \"'\", '\"'), \", nan: -2\", \"\"))\n",
    "map_gender = setNames(names(map_gender), map_gender)\n",
    "map_ethnicity = jsonlite::fromJSON(str_replace_all(str_replace_all((description %>% filter(covariate == \"ethnic_background\"))$mapping, \"'\", '\"'), \", nan: -2\", \"\"))\n",
    "map_ethnicity = setNames(names(map_ethnicity), map_ethnicity)"
   ]
  },
  {
   "cell_type": "code",
   "execution_count": null,
   "metadata": {},
   "outputs": [],
   "source": [
    "data$smoking_status = recode(data$smoking_status, !!!map_smoking)\n",
    "data$sex = recode(data$sex, !!!map_gender)\n",
    "data$ethnic_background = recode(data$ethnic_background, !!!map_ethnicity)"
   ]
  },
  {
   "cell_type": "markdown",
   "metadata": {},
   "source": [
    "# Scores"
   ]
  },
  {
   "cell_type": "markdown",
   "metadata": {},
   "source": [
    "## ESC SCORE (Conroy 2003)"
   ]
  },
  {
   "cell_type": "markdown",
   "metadata": {},
   "source": [
    "[Conroy 2003](http://eurheartj.oxfordjournals.org/content/24/11/987.full.pdf)"
   ]
  },
  {
   "cell_type": "raw",
   "metadata": {},
   "source": [
    "Endpoints: Composite for fatal cardiovascular disease\n",
    "defined in ICD9: 401 - 414 + 426 - 443 + 798.1 + 798.2, except: 426.7, 429.0, 430.0, 432.1, 437.3, 437.4, 437.5 + death\n",
    "ICD10 (Keil, 2005): I10-15, I20-25, I44-51, I61-69, I70-73 + death"
   ]
  },
  {
   "cell_type": "code",
   "execution_count": null,
   "metadata": {
    "ExecuteTime": {
     "end_time": "2020-11-04T09:37:25.761469Z",
     "start_time": "2020-11-04T09:37:25.008Z"
    }
   },
   "outputs": [],
   "source": [
    "calculateRisk <- function(age, cholesterol, SBP, currentSmoker, betaSmoker, betaSBP, betaChol, coefs) {\n",
    "  # step 1 risks\n",
    "  Sage0 = exp(-exp(coefs[\"alpha\"])*(age - 20)^coefs[\"p\"])\n",
    "  Sage10 = exp(-exp(coefs[\"alpha\"])*(age - 10)^coefs[\"p\"])\n",
    "  # step 2 weights\n",
    "  w = betaChol*(cholesterol - 6) + betaSBP*(SBP - 120) + betaSmoker*currentSmoker\n",
    "  # step 3 weighted risks\n",
    "  Sage   = (Sage0)^exp(w) \n",
    "  Sage1 = (Sage10)^exp(w) \n",
    "  # step 4 - 10 years survival\n",
    "  S10 = Sage1/Sage\n",
    "  # step 5 - endpoint\n",
    "  Risk10 = 1 - S10\n",
    "  Risk10\n",
    "}\n",
    "\n",
    "calculateScoreEur <- function(age, cholesterol, SBP, currentSmoker, gender = \"Men\", risk = \"Low risk\") {\n",
    "  betaSmoker = c(0.71, 0.63)\n",
    "  betaSBP    = c(0.018, 0.022)\n",
    "  betaChol   = c(0.24, 0.02)\n",
    "  \n",
    "  coeffs <- array(c(-22.1, 4.71, -26.7, 5.64, -29.8, 6.36, -31.0, 6.62, -21.0, 4.62, -25.7, 5.47, -28.7, 6.23, -30.0, 6.42), \n",
    "                  c(2,2,2,2),\n",
    "                  dimnames = list(c(\"alpha\", \"p\"), c(\"CHD\", \"non CHD\"), c(\"Male\", \"Female\"), c(\"Low risk\", \"High risk\")))\n",
    "  \n",
    "  # step 6 - score\n",
    "  CVDrisk = calculateRisk(age, cholesterol, SBP, currentSmoker,\n",
    "                          betaSmoker[1], betaSBP[1], betaChol[1], coeffs[,\"CHD\",gender,risk])\n",
    "  NonCVDrisk = calculateRisk(age, cholesterol, SBP, currentSmoker,\n",
    "                          betaSmoker[2], betaSBP[2], betaChol[2], coeffs[,\"non CHD\",gender,risk])\n",
    " \n",
    "  CVDrisk + NonCVDrisk\n",
    "}"
   ]
  },
  {
   "cell_type": "code",
   "execution_count": null,
   "metadata": {
    "ExecuteTime": {
     "end_time": "2020-11-04T09:37:27.777535Z",
     "start_time": "2020-11-04T09:37:27.089Z"
    }
   },
   "outputs": [],
   "source": [
    "sex=\"Male\"\n",
    "age_at_recruitment = 64\n",
    "cholesterol = 6.8\n",
    "systolic_blood_pressure = 140\n",
    "current_smoker = 0"
   ]
  },
  {
   "cell_type": "code",
   "execution_count": null,
   "metadata": {
    "ExecuteTime": {
     "end_time": "2020-11-04T09:37:35.468832Z",
     "start_time": "2020-11-04T09:37:34.753Z"
    }
   },
   "outputs": [],
   "source": [
    "calculateScoreEur(age_at_recruitment, cholesterol, systolic_blood_pressure, current_smoker, sex,risk=\"Low risk\")"
   ]
  },
  {
   "cell_type": "code",
   "execution_count": null,
   "metadata": {
    "ExecuteTime": {
     "end_time": "2020-11-04T09:37:47.821364Z",
     "start_time": "2020-11-04T09:37:35.426Z"
    }
   },
   "outputs": [],
   "source": [
    "temp = data.table(data %>% select(eid, age_at_recruitment, cholesterol, systolic_blood_pressure, smoking_status, sex) %>% mutate(current_smoker = case_when(smoking_status==\"Current\" ~ 1, TRUE ~ 0)))\n",
    "SCORE_df = temp[, SCORE_SCORE_Ft_10:=calculateScoreEur(age_at_recruitment, cholesterol, systolic_blood_pressure, current_smoker, sex,risk=\"Low risk\"), by=\"eid\"] %>% select(c(eid, SCORE_SCORE_Ft_10))\n",
    "SCORE_df"
   ]
  },
  {
   "cell_type": "markdown",
   "metadata": {},
   "source": [
    "## ACC/AHA ASCVD (Goff 2014)"
   ]
  },
  {
   "cell_type": "markdown",
   "metadata": {},
   "source": [
    "[Goof 2014](https://www.ahajournals.org/doi/pdf/10.1161/01.cir.0000437741.48606.98)"
   ]
  },
  {
   "cell_type": "raw",
   "metadata": {},
   "source": [
    "endpoints: composite of first occurrence of\n",
    "- nonfatal myocardial infarction I20-25 - hospital admission record\n",
    "- coronary heart disease death I20-I25 - mortality record\n",
    "- nonfatal or fatal stroke I63 hospital admission + mortality record\n",
    "exclusion: free from ASCVD event"
   ]
  },
  {
   "cell_type": "code",
   "execution_count": null,
   "metadata": {
    "ExecuteTime": {
     "end_time": "2020-11-04T09:38:02.240851Z",
     "start_time": "2020-11-04T09:38:01.564Z"
    }
   },
   "outputs": [],
   "source": [
    "coefs_string = '\"ln_age\" \"ln_age_squared\" \"ln_total_cholest\" \"ln_age_totcholest\" \"ln_hdlC\" \"ln_age_hdlC\" \"ln_treated_BP\" \"ln_age_BP\" \"ln_untreated_BP\" \"ln_age_ln_untreated_BP\" \"smoker\" \"nonsmoker\" \"ln_age_smoker\" \"diabetes\" \"nondiabetes\" \"meancoef\" \"baseline\"\n",
    "                \"white_female\" -29.799 4.884 13.54 -3.114 -13.578 3.149 2.019 0 1.957 0 7.574 0 -1.665 0.661 0 -29.18 0.9665\n",
    "                \"afroamer_female\" 17.114 0 0.94 0 -18.92 4.475 29.291 -6.432 27.82 -6.087 0.691 0 0 0.874 0 86.61 0.9533\n",
    "                \"white_male\" 12.344 0 11.853 -2.664 -7.99 1.769 1.797 0 1.764 0 7.837 0 -1.795 0.658 0 61.18 0.9144\n",
    "                \"afroamer_male\" 2.469 0 0.302 0 -0.307 0 1.916 0 1.809 0 0.549 0 0 0.645 0 19.54 0.8954'"
   ]
  },
  {
   "cell_type": "code",
   "execution_count": null,
   "metadata": {
    "ExecuteTime": {
     "end_time": "2020-11-04T09:38:03.013264Z",
     "start_time": "2020-11-04T09:38:02.333Z"
    }
   },
   "outputs": [],
   "source": [
    "# from Appendix 7\n",
    "coefs <- read.table(text=coefs_string, row.names=1)\n",
    "#coefs\n",
    "\n",
    "calculateASCVD <- function(coefs=coefs, sex=\"Male\", ethnicity=\"White\", age=53, cholesterol=2, hdl_cholesterol=1.1, systolic_blood_pressure=120, antihypertensives=1, diabetes=0, smoking=1) {\n",
    "    \n",
    "    if (!is.na(ethnicity)) {\n",
    "            \n",
    "        if ((sex==\"Female\")&(ethnicity != \"Black\")){const=coefs[1,]} \n",
    "        if ((sex==\"Female\")&(ethnicity==\"Black\")){const=coefs[2,]} \n",
    "        if ((sex==\"Male\")&(ethnicity != \"Black\")){const=coefs[3,]} \n",
    "        if ((sex==\"Male\")&(ethnicity==\"Black\")){const=coefs[4,]} \n",
    "\n",
    "        if (smoking==TRUE){smokc=const$smoker} else {smokc=const$nonsmoker}\n",
    "        if (smoking==TRUE){smokcov=1} else {smokcov=0}\n",
    "\n",
    "        if (antihypertensives==TRUE){BPc=const$ln_treated_BP} else {BPc=const$ln_untreated_BP}\n",
    "        if (antihypertensives==TRUE){BPcov=const$ln_age_BP} else {BPcov=const$ln_age_ln_untreated_BP}\n",
    "\n",
    "        if (diabetes==TRUE){diab=const$diabetes} else {diab=const$nondiabetes}\n",
    "\n",
    "       # meancoef = const$meancoef\n",
    "\n",
    "        calc = log(age)*const$ln_age+log(age)*log(age)*const$ln_age_squared+\n",
    "            log(cholesterol*38.67)*const$ln_total_cholest+\n",
    "            log(age)*log(cholesterol*38.67)*const$ln_age_totcholest+\n",
    "            log(hdl_cholesterol*38.67)*const$ln_hdlC+\n",
    "            log(age)*log(hdl_cholesterol*38.67)*const$ln_age_hdlC+\n",
    "            smokc+smokcov*log(age)*const$ln_age_smoker+\n",
    "            log(systolic_blood_pressure)*BPc+\n",
    "            log(age)*log(systolic_blood_pressure)*BPcov+diab\n",
    "        \n",
    "        ASCVD<-(1-(const$baseline^exp(calc-const$meancoef)))\n",
    "    } else {ASCVD=NA}\n",
    "    return (ASCVD)\n",
    "}"
   ]
  },
  {
   "cell_type": "code",
   "execution_count": null,
   "metadata": {
    "ExecuteTime": {
     "end_time": "2020-11-04T09:39:29.590535Z",
     "start_time": "2020-11-04T09:38:03.549Z"
    }
   },
   "outputs": [],
   "source": [
    "temp = data.table(data %>% select(eid, age_at_recruitment, ethnic_background, sex, cholesterol, hdl_cholesterol, systolic_blood_pressure, antihypertensives, diabetes2, smoking_status) %>%\n",
    "                  mutate(current_smoker = case_when(smoking_status==\"Current\" ~ TRUE, TRUE ~ FALSE)))\n",
    "ASCVD_df = temp[, SCORE_ASCVD_Ft_10:=calculateASCVD(coefs, sex, ethnic_background, age_at_recruitment, cholesterol, hdl_cholesterol, systolic_blood_pressure, antihypertensives, diabetes2, current_smoker), by=eid] %>% select(c(eid, SCORE_ASCVD_Ft_10))\n",
    "head(ASCVD_df)"
   ]
  },
  {
   "cell_type": "markdown",
   "metadata": {},
   "source": [
    "## UK QRISK3 (Hippisley-Cox 2017)"
   ]
  },
  {
   "cell_type": "markdown",
   "metadata": {},
   "source": [
    "[Hippisley-Cox 2017](https://www.bmj.com/content/357/bmj.j2099)"
   ]
  },
  {
   "cell_type": "raw",
   "metadata": {},
   "source": [
    "Population: 25-84J\n",
    "Exclusion: Diagnosis of coronary heart disease (Angina/Heart attack) or Stroke/TIA\n",
    "Endpoints: Composite outcome of CHD, ischemic Stroke or TIA record in GP, Hospital or Mortality records\n",
    "ICD10: G45, I20, I21, I22, I23, I24, I25, I63, I64"
   ]
  },
  {
   "cell_type": "code",
   "execution_count": null,
   "metadata": {
    "ExecuteTime": {
     "end_time": "2020-11-04T09:40:22.037710Z",
     "start_time": "2020-11-04T09:40:15.383Z"
    }
   },
   "outputs": [],
   "source": [
    "options(warn=-1)\n",
    "library(QRISK3)\n",
    "temp = head(data)\n",
    "temp = as.data.frame(data %>% \n",
    "                     mutate_if(is.logical, as.integer) %>%\n",
    "                     mutate(cholesterol_HDL_ratio=cholesterol/hdl_cholesterol, \n",
    "                            gender=case_when(sex==\"Female\"~1, sex==\"Male\"~0),\n",
    "                            ethnicity=case_when(ethnic_background == \"White\" ~ 1,\n",
    "                                                ethnic_background == \"Asian\" ~ 5,\n",
    "                                                ethnic_background == \"Black\" ~ 1,\n",
    "                                                ethnic_background == \"Chinese\" ~ 5,\n",
    "                                                ethnic_background == \"Mixed\" ~ 1,\n",
    "                                                TRUE ~ 1\n",
    "                                               ),\n",
    "                            smoke=case_when(smoking_status == \"Never\" ~ 1,\n",
    "                                            smoking_status == \"Previous\" ~ 2,\n",
    "                                            smoking_status == \"Current\" ~ 4,\n",
    "                                            ),\n",
    "                            age = as.numeric(age_at_recruitment),\n",
    "                            std_systolic_blood_pressure = 9.002537727355957,\n",
    "                           ) #%>% drop_na()\n",
    "                    )"
   ]
  },
  {
   "cell_type": "code",
   "execution_count": null,
   "metadata": {
    "ExecuteTime": {
     "end_time": "2020-11-04T09:40:42.773146Z",
     "start_time": "2020-11-04T09:40:41.164Z"
    }
   },
   "outputs": [],
   "source": [
    "options(warn=0)\n",
    "QRISK3_df = QRISK3_2017(data = temp, \n",
    "            patid=\"eid\", \n",
    "            gender=\"gender\", \n",
    "            age=\"age\", \n",
    "            atrial_fibrillation=\"atrial_fibrillation\", \n",
    "            atypical_antipsy=\"atypical_antipsychotics\", \n",
    "            regular_steroid_tablets=\"glucocorticoids\",\n",
    "            erectile_disfunction=\"erectile_dysfunction\",\n",
    "            migraine=\"migraine\",\n",
    "            rheumatoid_arthritis=\"rheumatoid_arthritis\",\n",
    "            chronic_kidney_disease=\"chronic_kidney_disease\",\n",
    "            severe_mental_illness=\"severe_mental_illness\",\n",
    "            systemic_lupus_erythematosis=\"systemic_lupus_erythematosus\",\n",
    "            blood_pressure_treatment=\"antihypertensives\",\n",
    "            diabetes1=\"diabetes1\",\n",
    "            diabetes2=\"diabetes2\",\n",
    "            weight=\"weight\",\n",
    "            height=\"standing_height\",\n",
    "            ethiniciy=\"ethnicity\",\n",
    "            heart_attack_relative=\"fh_heart_disease\",\n",
    "            cholesterol_HDL_ratio = \"cholesterol_HDL_ratio\",\n",
    "            systolic_blood_pressure = \"systolic_blood_pressure\",\n",
    "            std_systolic_blood_pressure = \"std_systolic_blood_pressure\", ### MISSING!\n",
    "            smoke = \"smoke\",\n",
    "            townsend = \"townsend_deprivation_index_at_recruitment\")\n",
    "QRISK3_df = QRISK3_df %>% mutate(SCORE_QRISK3_Ft_10=QRISK3_2017/100) %>% select(c(eid, SCORE_QRISK3_Ft_10)) "
   ]
  },
  {
   "cell_type": "code",
   "execution_count": null,
   "metadata": {
    "ExecuteTime": {
     "end_time": "2020-11-04T09:40:44.271222Z",
     "start_time": "2020-11-04T09:40:43.588Z"
    }
   },
   "outputs": [],
   "source": [
    "nrow(QRISK3_df)"
   ]
  },
  {
   "cell_type": "markdown",
   "metadata": {},
   "source": [
    "# JOIN SCORE OUTPUTS"
   ]
  },
  {
   "cell_type": "code",
   "execution_count": null,
   "metadata": {
    "ExecuteTime": {
     "end_time": "2020-11-04T09:41:08.487583Z",
     "start_time": "2020-11-04T09:41:07.046Z"
    }
   },
   "outputs": [],
   "source": [
    "score_df = FRS_df %>% left_join(SCORE_df, by=\"eid\") %>% left_join(ASCVD_df, by=\"eid\") %>% left_join(QRISK3_df, by=\"eid\") %>% arrange(eid)\n",
    "head(score_df)"
   ]
  },
  {
   "cell_type": "code",
   "execution_count": null,
   "metadata": {},
   "outputs": [],
   "source": [
    "score_df_long = score_df %>% mutate(module=\"SCORE\") %>% pivot_longer(-c(eid, module), names_to=\"features\", values_to=\"Ft_10\", names_pattern=\"SCORE_(.*)_Ft_10\") %>% mutate(features = str_remove(features, \"score_\")) %>% mutate(calibrated=FALSE)\n",
    "score_df_long"
   ]
  },
  {
   "cell_type": "code",
   "execution_count": null,
   "metadata": {},
   "outputs": [],
   "source": [
    "score_df_long %>% write_csv(glue(\"{data_results_path}/predictions_scores_210616.csv\"))"
   ]
  }
 ],
 "metadata": {
  "kernelspec": {
   "display_name": "R [conda env:python]",
   "language": "R",
   "name": "conda-env-python-r"
  },
  "language_info": {
   "codemirror_mode": "r",
   "file_extension": ".r",
   "mimetype": "text/x-r-source",
   "name": "R",
   "pygments_lexer": "r",
   "version": "4.0.3"
  }
 },
 "nbformat": 4,
 "nbformat_minor": 4
}
